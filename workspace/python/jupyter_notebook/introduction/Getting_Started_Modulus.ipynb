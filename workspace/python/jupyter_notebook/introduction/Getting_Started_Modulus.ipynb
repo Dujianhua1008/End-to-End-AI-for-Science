{
 "cells": [
  {
   "cell_type": "markdown",
   "metadata": {},
   "source": [
    "# Getting started with Modulus "
   ]
  },
  {
   "cell_type": "markdown",
   "metadata": {},
   "source": [
    "In this comprehensive notebook, we will explore the building blocks of Modulus, familiarizing ourselves with its development workflow and introducing a six-step approach to solving problems in Modulus. Furthermore, we shall delve into the nuanced differences between Data-driven and Physics-Informed approaches to Neural networks and gain valuable insights into the domains where these approaches prove advantageous. \n",
    "\n",
    "\n",
    "You can refer to the <a href=\"https://docs.nvidia.com/deeplearning/modulus/index.html\" rel=\"nofollow\">Modulus User Documentation</a> for more examples of solving different types of PDEs using the Modulus library, Modulus APIs, Release notes, etc.\n"
   ]
  },
  {
   "cell_type": "markdown",
   "metadata": {},
   "source": [
    "#### Contents of the Notebook\n",
    "- [Introduction to Modulus](#Introduction-to-Modulus)\n",
    "    - [Building Blocks of Modulus](#Building-blocks-of-Modulus)\n",
    "    - [Developement workflow of Modulus](#Developement-workflow-of-Modulus)\n",
    "    - [Six-step approach to problem solving in Modulus](#Six-step-approach-to-problem-solving-in-Modulus)\n",
    "- [Physics-Informed approach vs Data-driven approach to neural networks](#Physics-Informed-approach-vs-Data-driven-approach-to-neural-networks)\n",
    "\n",
    "    \n",
    "\n",
    "#### Learning Outcomes\n",
    "- Understand the Modulus framework and its workflow.\n",
    "- Understand and build a procedural approach to solving problems in Modulus. \n",
    "- Understand the differences between Data-driven and Physics-Informed approaches and the respective domains where they are advantageous. "
   ]
  },
  {
   "cell_type": "markdown",
   "metadata": {},
   "source": [
    "## Introduction to Modulus\n",
    "\n",
    "NVIDIA Modulus is a deep learning framework that blends the power of physics and partial differential equations (PDEs) with AI to build more robust models for better analysis.\n",
    "There is a plethora of ways in which ML/NN models can be applied for physics-based systems. These can depend based on the availability of observational data and the extent of understanding of underlying physics. Based on these aspects, the ML/NN-based methodologies can be broadly classified into forward (physics-driven), data-driven and hybrid approaches that involve both the physics and data assimilation. Modulus aims to provide researchers and industry specialists with various tools to help accelerate the development of such models for the scientific discipline of your need.\n",
    "<center><img src=\"images/modulus.webp\" alt=\"Drawing\" /></center>\n",
    "\n"
   ]
  },
  {
   "cell_type": "markdown",
   "metadata": {},
   "source": [
    "### Six-step approach to problem solving in Modulus\n",
    "在Modulus中解决问题的六步方法\n",
    "\n",
    "我们可以利用上述定义的必要组件和附加组件来定义在Modulus中解决问题的程序化方法。这将使我们能够理解并掌握到本训练营结束时解决任何问题所需的六个步骤。让我们继续并定义这六个步骤：\n",
    "\n",
    "**步骤1：几何和数据**\n",
    "\n",
    "毫无疑问，数据对于深度学习至关重要，数据的质量在训练系统的输出中起着关键作用。在Modulus中，我们可以提供几何信息以供数据采样，或者提供传统数据格式的数据，或者两者兼有，具体取决于所选择的方法。\n",
    "\n",
    "**步骤2：定义PDEs和/或创建节点**\n",
    "\n",
    "在我们了解了计划构建的系统的可用数据或几何形状后，我们可以定义PDEs，并使用它们来创建我们的节点（即模型）。\n",
    "\n",
    "**步骤3：创建域并定义约束**\n",
    "\n",
    "我们建立一个域，并使用约束来定义训练目标，无论是解决特定的PDE还是数据网格。我们可以定义适当的约束，以强制模型训练并实现训练目标。\n",
    "\n",
    "**步骤4：向域中添加推断器、验证器和监视器**\n",
    "\n",
    "然后我们根据我们的需求创建并添加所有可选组件。\n",
    "\n",
    "**步骤5：设置Hydra配置文件**\n",
    "\n",
    "我们使用Hydra配置来设置将用于建立和训练模型的各种超参数。\n",
    "\n",
    "**步骤6：实例化求解器并训练网络**\n",
    "\n",
    "一旦我们设置好一切，我们可以实例化求解器来训练我们的模型，并监控训练的收敛进度。\n",
    "在接下来的所有笔记本中，我们都将使用这种方法来解决Modulus中的问题。\n",
    "\n",
    "We can use the necessary and additional components defined above to define a procedural approach to problem solving in Modulus. This will allow us to understand and master the six steps needed to solve any problem by the end of this bootcamp. Let us go ahead and define the six steps: \n",
    "<ul>\n",
    "<li><strong>Step 1</strong> : <em>Geometry and Data</em><ul>\n",
    "<li>It is no doubt that data is paramount to Deep learning, and the quality of data plays a critical role in the output of the trained system. In Modulus, we can provide them both as Geometry information from which data can be sampled, in traditional data formats, or both depending on the chosen approach. </li>\n",
    "</ul>\n",
    "</li>\n",
    "</ul>\n",
    "<ul>\n",
    "<li><strong>Step 2</strong> : <em>Defining the PDEs and/or creating the nodes</em><ul>\n",
    "<li>After we grasp the available data or geometry for the system we plan to build, we can define the PDEs and use them to create our nodes (aka model). </li>\n",
    "</ul>\n",
    "</li>\n",
    "</ul>\n",
    "<ul>\n",
    "<li><strong>Step 3</strong> : <em>Creating a Domain and defining the Constraints</em> <ul>\n",
    "<li>We set up a domain and use constraints to define the training goal, whether solving a particular PDE or a Data grid. We can define appropriate constraints to enforce conditions for the model to train and reach the training goal. </li>\n",
    "</ul>\n",
    "</li>\n",
    "</ul>\n",
    "<ul>\n",
    "<li><strong>Step 4</strong> : <em>Adding Inferencers, Validators, and Monitors to the domain</em><ul>\n",
    "<li>We then create and add all optional components depending on our requirements.</li>\n",
    "</ul>\n",
    "</li>\n",
    "</ul>\n",
    "<ul>\n",
    "<li><strong>Step 5</strong> : <em>Setting up the Hydra configuration file</em><ul>\n",
    "<li>We use Hydra configuration to set various hyperparameters that will be used for setting up and training our model.    </li>\n",
    "</ul>\n",
    "</li>\n",
    "</ul>\n",
    "<ul>\n",
    "<li><strong>Step 6</strong> : <em>Instantiating the Solver and training the network</em> <ul>\n",
    "<li>Once we have set up everything, we can instantiate the solver to train our model and monitor progress for training convergence. </li>\n",
    "</ul>\n",
    "</li>\n",
    "</ul>\n",
    "Going forward, we will use this approach in all the upcoming notebooks for problem solving in Modulus.\n"
   ]
  },
  {
   "cell_type": "markdown",
   "metadata": {},
   "source": [
    "## Physics-Informed approach vs Data-driven approach to neural networks\n",
    "首选物理知情方法的领域：\n",
    "\n",
    "在物理定律和约束发挥重要作用的领域，基于物理的方法比数据驱动的方法更有效。一些例子包括：\n",
    "\n",
    "• 流体动力学：在流体动力学中，纳维-斯托克斯方程等物理定律描述了流体的行为方式。 PINN 可以使用这些定律来约束学习过程，使模型更加准确，并且能够更好地处理复杂的流体流动模式。\n",
    "\n",
    "• 材料科学：在材料科学中，材料的行为受热力学和弹性定律等物理定律的支配。 PIML 可用于开发捕获底层物理原理的模型，使它们更加准确和可解释。\n",
    "\n",
    "• 结构工程：在结构工程中，力学和材料科学等物理定律控制结构在不同条件下的行为。\n",
    "\n",
    "• 生物医学工程：在生物医学工程中，物理定律（例如流体力学和生物力学定律）在理解生物系统的行为方面发挥着关键作用。\n",
    "\n",
    "现在我们已经介绍了模数和六步方法，并讨论了物理知情方法和数据驱动方法的基础知识，让我们继续在以下笔记本中实现它们。\n",
    "\n",
    "Physics-informed machine learning and data-driven machine learning are two different approaches to solving problems using machine learning algorithms.\n",
    "<h4 id=\"physics-informed-approach\"><strong>Physics Informed Approach:</strong></h4>\n",
    "Physics-informed machine learning combines principles from physics and machine learning to create more accurate and interpretable models. It involves incorporating known physical laws and equations into the model design to guide the learning process. This approach uses domain-specific knowledge to develop models that are more robust and generalizable. It is particularly useful when the data available for model training is limited, noisy or incomplete. \n",
    "Learning PDEs has many advantages over traditional methods. PINNs (Physics Informed Neural Networks) doesn't require a mesh to compute solutions, making it easier to solve problems on-demand after training. PINNs also allow for analytical gradients, which means they can easily solve both forward and inverse problems using the same optimization process. Not only can PINNs solve differential equations, but they can also solve inverse problems, such as determining fluid flows based on sensor data. The same code used to solve forward problems can be used to solve inverse problems with minimal changes. PINNs can handle PDEs in complex geometries or high dimensions that are difficult to simulate numerically. Overall, PINNs can be used for solving inverse problems and constrained optimization problems, as well as PDEs.\n",
    "<h4 id=\"data-driven-approach\"><strong>Data-driven Approach:</strong></h4>\n",
    "Data-driven machine learning, on the other hand, relies on large amounts of data to develop predictive models. This approach involves using statistical techniques and machine learning algorithms to identify patterns in the data and then using these patterns to make predictions or classifications. Data-driven machine learning models are often complex and may not be easily interpretable. They require a large amount of data to achieve high accuracy and are generally less robust than physics-informed models.\n",
    "<h4 id=\"domains-where-physics-informed-approach-would-be-preferred\"><strong>Domains where Physics Informed Approach would be preferred:</strong></h4>\n",
    "Physics-informed approach can be more effective than data-driven approaches in domains where physical laws and constraints play an important role. Some examples include:\n",
    "<ul>\n",
    "<li><em>Fluid Dynamics</em>: In fluid dynamics, physical laws such as the Navier-Stokes equations describe how fluids behave. PINNs can use these laws to constrain the learning process, making models more accurate and better able to handle complex fluid flow patterns.</li>\n",
    "<li><em>Material Science</em>: In material science, the behaviour of materials is governed by physical laws such as the laws of thermodynamics and elasticity. PIML can be used to develop models that capture the underlying physics, making them more accurate and interpretable.</li>\n",
    "<li><em>Structural Engineering</em>: In structural engineering, physical laws such as the laws of mechanics and materials science govern how structures behave under different conditions. </li>\n",
    "<li><em>Biomedical Engineering</em>: In biomedical engineering, physical laws, such as the laws of fluid mechanics and biomechanics, play a critical role in understanding the behaviour of biological systems.</li>\n",
    "</ul>\n",
    "Now that we have introduced Modulus and the six-step approach and discussed the basics of the Physics Informed approach and Data-driven approach, let us go ahead and implement them in the following notebooks.\n"
   ]
  },
  {
   "cell_type": "markdown",
   "metadata": {},
   "source": [
    "--- \n",
    "\n",
    "Don't forget to check out additional [Open Hackathons Resources](https://www.openhackathons.org/s/technical-resources) and join our [OpenACC and Hackathons Slack Channel](https://www.openacc.org/community#slack) to share your experience and get more help from the community.\n",
    "\n",
    "---\n",
    "\n",
    "# Licensing\n",
    "\n",
    "Copyright © 2023 OpenACC-Standard.org.  This material is released by OpenACC-Standard.org, in collaboration with NVIDIA Corporation, under the Creative Commons Attribution 4.0 International (CC BY 4.0). These materials may include references to hardware and software developed by other entities; all applicable licensing and copyrights apply.\n"
   ]
  }
 ],
 "metadata": {
  "kernelspec": {
   "display_name": "Python 3 (ipykernel)",
   "language": "python",
   "name": "python3"
  },
  "language_info": {
   "codemirror_mode": {
    "name": "ipython",
    "version": 3
   },
   "file_extension": ".py",
   "mimetype": "text/x-python",
   "name": "python",
   "nbconvert_exporter": "python",
   "pygments_lexer": "ipython3",
   "version": "3.10.6"
  }
 },
 "nbformat": 4,
 "nbformat_minor": 4
}
